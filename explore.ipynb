{
 "cells": [
  {
   "cell_type": "code",
   "execution_count": 1,
   "metadata": {},
   "outputs": [],
   "source": [
    "import getpass\n",
    "import os\n",
    "\n",
    "from dotenv import load_dotenv\n",
    "\n",
    "load_dotenv()\n",
    "\n",
    "def _set_if_undefined(var: str):\n",
    "    if not os.environ.get(var):\n",
    "        os.environ[var] = getpass.getpass(f\"Please provide your {var}\")\n",
    "\n",
    "\n",
    "_set_if_undefined(\"GROQ_API_KEY\")\n",
    "_set_if_undefined(\"TAVILY_API_KEY\")"
   ]
  },
  {
   "cell_type": "markdown",
   "metadata": {},
   "source": [
    "## Create tools"
   ]
  },
  {
   "cell_type": "code",
   "execution_count": 2,
   "metadata": {},
   "outputs": [],
   "source": [
    "from typing import Annotated\n",
    "\n",
    "from langchain_community.tools.tavily_search import TavilySearchResults\n",
    "from langchain_core.tools import tool\n",
    "from langchain_experimental.utilities import PythonREPL\n",
    "\n",
    "tavily_tool = TavilySearchResults(max_results=5)\n",
    "\n",
    "\n",
    "# This executes code locally, which can be unsafe\n",
    "repl = PythonREPL()\n",
    "\n",
    "\n",
    "@tool\n",
    "def python_repl_tool(\n",
    "    code: Annotated[str, \"The python code to execute to generate your chart.\"],\n",
    "):\n",
    "    \"\"\"Use this to execute python code and do math. If you want to see the output of a value,\n",
    "    you should print it out with `print(...)`. This is visible to the user.\"\"\"\n",
    "    try:\n",
    "        result = repl.run(code)\n",
    "    except BaseException as e:\n",
    "        return f\"Failed to execute. Error: {repr(e)}\"\n",
    "    result_str = f\"Successfully executed:\\n```python\\n{code}\\n```\\nStdout: {result}\"\n",
    "    return result_str"
   ]
  },
  {
   "cell_type": "markdown",
   "metadata": {},
   "source": [
    "## Create Agent Supervisor\n"
   ]
  },
  {
   "cell_type": "code",
   "execution_count": 12,
   "metadata": {},
   "outputs": [],
   "source": [
    "from typing_extensions import TypedDict, Literal\n",
    "\n",
    "from langchain_groq import ChatGroq\n",
    "from langgraph.graph import MessagesState, END\n",
    "from langgraph.types import Command\n",
    "\n",
    "\n",
    "members = [\"retrival\", \"resume\"]\n",
    "# Our team supervisor is an LLM node. It just picks the next agent to process\n",
    "# and decides when the work is completed\n",
    "options = members + [\"FINISH\"]\n",
    "\n",
    "system_prompt = \"\"\"\n",
    "You are the Orchestrator for a job plateform, responsible for coordinating specialized agents to help users with their job search and career questions.\n",
    "\n",
    "TEAM MEMBERS:\n",
    "1. retrieval: Searches for job listings and provides market information\n",
    "2. resume: Offers resume optimization and career advice\n",
    "\n",
    "YOUR RESPONSIBILITIES:\n",
    "1. Analyze the current state of the conversation\n",
    "2. Classify user's intent: retrieval, resume and route to the appropriate agent\n",
    "3. Ensure the user gets a complete and helpful response\n",
    "4. Avoid unnecessary agent calls - only use agents when their specific skills are needed\n",
    "5. Decide when the task is complete\n",
    "\n",
    "ROUTING GUIDELINES:\n",
    "- Route to Retrieval Agent when job listings or job market information is needed\n",
    "- Route to Resume Agent when resume advice or career guidance is needed\n",
    "- Route to FINISH when the user's request has been completely addressed\n",
    "\n",
    "EXAMPLES OF GOOD ROUTING:\n",
    "\n",
    "1. User asks: \"I'm looking for nursing jobs in California with a BSN degree\"\n",
    "   - First route to Retrieval Agent to find matching nursing jobs\n",
    "   - Then FINISH (resume advice not explicitly requested)\n",
    "\n",
    "2. User asks: \"I'm a financial analyst with these skills and certifications and can't get interviews\"\n",
    "   - First route to Retrieval Agent to find relevant financial analyst jobs\n",
    "   - Then route to Resume Agent to provide tailored advice\n",
    "   - Then FINISH with a complete response\n",
    "\n",
    "\"\"\"\n",
    "\n",
    "\n",
    "class Router(TypedDict):\n",
    "    \"\"\"Worker to route to next. If no workers needed, route to FINISH.\"\"\"\n",
    "\n",
    "    next: Literal[\"retrival\", \"resume\", \"FINISH\"]\n",
    "\n",
    "\n",
    "llm = ChatGroq(temperature=1, model_name=\"llama-3.3-70b-specdec\")\n",
    "# llm = ChatGroq(temperature=0, model_name=\"deepseek-r1-distill-llama-70b\")\n",
    "\n",
    "\n",
    "class State(MessagesState):\n",
    "    next: str\n",
    "\n",
    "\n",
    "def supervisor_node(state: State) -> Command[Literal[\"retrival\", \"resume\", \"__end__\"]]:\n",
    "    messages = [\n",
    "        {\"role\": \"system\", \"content\": system_prompt},\n",
    "    ] + state[\"messages\"]\n",
    "    response = llm.with_structured_output(Router).invoke(messages)\n",
    "    goto = response[\"next\"]\n",
    "    if goto == \"FINISH\":\n",
    "        goto = END\n",
    "\n",
    "    return Command(goto=goto, update={\"next\": goto})"
   ]
  },
  {
   "cell_type": "markdown",
   "metadata": {},
   "source": [
    "## Construct Graph\n"
   ]
  },
  {
   "cell_type": "code",
   "execution_count": 13,
   "metadata": {},
   "outputs": [],
   "source": [
    "from langchain_core.messages import HumanMessage\n",
    "from langgraph.graph import StateGraph, START, END\n",
    "from langgraph.prebuilt import create_react_agent\n",
    "\n",
    "\n",
    "# research_agent = create_react_agent(\n",
    "#     llm, tools=[tavily_tool], prompt=\"You are a researcher. DO NOT do any math. you always be happy with first reult even if it is the same\"\n",
    "# )\n",
    "\n",
    "retrival_agent = create_react_agent(\n",
    "    llm,\n",
    "    tools=[tavily_tool],\n",
    "    prompt=\"\"\"\n",
    "You are the Job Retrieval Agent, specialized in finding relevant job opportunities and market information.\n",
    "\n",
    "YOUR RESPONSIBILITIES:\n",
    "1. Search for job listings that match the user's criteria and nothing more\n",
    "\n",
    "IMPORTANT:\n",
    "- Focus on providing factual information about jobs and the job market\n",
    "\n",
    "WHEN YOUR TASK IS COMPLETE:\n",
    "- Summarize the key findings from your research\n",
    "\n",
    "Only use the tools provided to you for research purposes.\n",
    "\"\"\",\n",
    ")\n",
    "\n",
    "\n",
    "def retrival_node(state: State) -> Command[Literal[\"supervisor\"]]:\n",
    "    result = retrival_agent.invoke(state)\n",
    "    return Command(\n",
    "        update={\n",
    "            \"messages\": [\n",
    "                HumanMessage(content=result[\"messages\"][-1].content, name=\"retrival\")\n",
    "            ]\n",
    "        },\n",
    "        goto=\"supervisor\",\n",
    "    )\n",
    "\n",
    "\n",
    "# NOTE: THIS PERFORMS ARBITRARY CODE EXECUTION, WHICH CAN BE UNSAFE WHEN NOT SANDBOXED\n",
    "resume_agent = create_react_agent(\n",
    "    llm,\n",
    "    tools=[tavily_tool],\n",
    "    prompt=\"You are a coder. When finshied with execution return TASK COMPLETE\",\n",
    ")\n",
    "\n",
    "\n",
    "def resume_node(state: State) -> Command[Literal[\"supervisor\"]]:\n",
    "    result = resume_agent.invoke(state)\n",
    "    return Command(\n",
    "        update={\n",
    "            \"messages\": [\n",
    "                HumanMessage(content=result[\"messages\"][-1].content, name=\"resume\")\n",
    "            ]\n",
    "        },\n",
    "        goto=\"supervisor\",\n",
    "    )\n",
    "\n",
    "\n",
    "builder = StateGraph(State)\n",
    "builder.add_edge(START, \"supervisor\")\n",
    "builder.add_node(\"supervisor\", supervisor_node)\n",
    "builder.add_node(\"retrival\", retrival_node)\n",
    "builder.add_node(\"resume\", resume_node)\n",
    "graph = builder.compile()"
   ]
  },
  {
   "cell_type": "code",
   "execution_count": 14,
   "metadata": {},
   "outputs": [
    {
     "data": {
      "image/png": "[encoded data removed]",
      "text/plain": [
       "<IPython.core.display.Image object>"
      ]
     },
     "metadata": {},
     "output_type": "display_data"
    }
   ],
   "source": [
    "from IPython.display import display, Image\n",
    "\n",
    "display(Image(graph.get_graph().draw_mermaid_png()))"
   ]
  },
  {
   "cell_type": "markdown",
   "metadata": {},
   "source": [
    "## Invoke the team\n"
   ]
  },
  {
   "cell_type": "code",
   "execution_count": null,
   "metadata": {},
   "outputs": [
    {
     "name": "stdout",
     "output_type": "stream",
     "text": [
      "((), {'supervisor': {'next': 'researcher'}})\n",
      "----\n",
      "(('researcher:e0c05ac2-8b29-1ffd-8530-b10e0e49d1a0',), {'agent': {'messages': [AIMessage(content='', additional_kwargs={'tool_calls': [{'id': 'call_xt9n', 'function': {'arguments': '{\"query\": \"circumference of a circle with diameter 10\"}', 'name': 'tavily_search_results_json'}, 'type': 'function'}]}, response_metadata={'token_usage': {'completion_tokens': 29, 'prompt_tokens': 637, 'total_tokens': 666, 'completion_time': 0.013657476, 'prompt_time': 0.071642749, 'queue_time': 0.003990383, 'total_time': 0.085300225}, 'model_name': 'llama-3.3-70b-specdec', 'system_fingerprint': 'fp_9f325da874', 'finish_reason': 'tool_calls', 'logprobs': None}, id='run-35373ae7-a9cf-4635-95c5-e1edf30a9238-0', tool_calls=[{'name': 'tavily_search_results_json', 'args': {'query': 'circumference of a circle with diameter 10'}, 'id': 'call_xt9n', 'type': 'tool_call'}], usage_metadata={'input_tokens': 637, 'output_tokens': 29, 'total_tokens': 666})]}})\n",
      "----\n",
      "(('researcher:e0c05ac2-8b29-1ffd-8530-b10e0e49d1a0',), {'tools': {'messages': [ToolMessage(content='[{\"title\": \"What would be the circumference of a circle with a diameter of 10 ...\", \"url\": \"https://socratic.org/questions/what-would-be-the-circumference-of-a-circle-with-a-diameter-of-10-inches\", \"content\": \"31.4 inches. Explanation: Circumference of the circle = π d. Circumference of the circle = 3.14 × 10. Circumference of the circle = 31.4\", \"score\": 0.91156644}, {\"title\": \"Find the Circumference of a Circle with a Diameter of 10 in and cm\", \"url\": \"https://www.youtube.com/watch?v=snVw5KquiPk\", \"content\": \"To find the circumference of a circle given the diameter, you can use the following formula: C = πd Where: C is the circumference of the\", \"score\": 0.84918517}, {\"title\": \"What is the circumference of a 10-foot diameter circle? - Quora\", \"url\": \"https://www.quora.com/What-is-the-circumference-of-a-10-foot-diameter-circle\", \"content\": \"The circumference of the circle is 81.6 meters. Upvote ·. 92. Profile photo for Hashim Mushtaq. Hashim Mushtaq. BSc in Mathematics & Computer\", \"score\": 0.8452414}, {\"title\": \"Circumference Calculator\", \"url\": \"https://www.omnicalculator.com/math/circumference\", \"content\": \"For example, a circle with a 5 cm radius will have a 10 cm diameter and a 31.4159 cm circumference. The calculator also gives the area of this\", \"score\": 0.83549726}, {\"title\": \"Circumference of a Circle Calculator - Pi Day\", \"url\": \"https://www.piday.org/calculators/circumference-calculator/\", \"content\": \"We know that C = πd. Since the diameter is 10cm, we know that C = π x 10cm = 31.42cm (to 2 decimal places).\", \"score\": 0.8127637}]', name='tavily_search_results_json', id='c0043e7c-6a97-4e98-9688-01e2bd8c6d53', tool_call_id='call_xt9n', artifact={'query': 'circumference of a circle with diameter 10', 'follow_up_questions': None, 'answer': None, 'images': [], 'results': [{'url': 'https://socratic.org/questions/what-would-be-the-circumference-of-a-circle-with-a-diameter-of-10-inches', 'title': 'What would be the circumference of a circle with a diameter of 10 ...', 'content': '31.4 inches. Explanation: Circumference of the circle = π d. Circumference of the circle = 3.14 × 10. Circumference of the circle = 31.4', 'score': 0.91156644, 'raw_content': None}, {'url': 'https://www.youtube.com/watch?v=snVw5KquiPk', 'title': 'Find the Circumference of a Circle with a Diameter of 10 in and cm', 'content': 'To find the circumference of a circle given the diameter, you can use the following formula: C = πd Where: C is the circumference of the', 'score': 0.84918517, 'raw_content': None}, {'url': 'https://www.quora.com/What-is-the-circumference-of-a-10-foot-diameter-circle', 'title': 'What is the circumference of a 10-foot diameter circle? - Quora', 'content': 'The circumference of the circle is 81.6 meters. Upvote ·. 92. Profile photo for Hashim Mushtaq. Hashim Mushtaq. BSc in Mathematics & Computer', 'score': 0.8452414, 'raw_content': None}, {'url': 'https://www.omnicalculator.com/math/circumference', 'title': 'Circumference Calculator', 'content': 'For example, a circle with a 5 cm radius will have a 10 cm diameter and a 31.4159 cm circumference. The calculator also gives the area of this', 'score': 0.83549726, 'raw_content': None}, {'url': 'https://www.piday.org/calculators/circumference-calculator/', 'title': 'Circumference of a Circle Calculator - Pi Day', 'content': 'We know that C = πd. Since the diameter is 10cm, we know that C = π x 10cm = 31.42cm (to 2 decimal places).', 'score': 0.8127637, 'raw_content': None}], 'response_time': 2.19})]}})\n",
      "----\n",
      "(('researcher:e0c05ac2-8b29-1ffd-8530-b10e0e49d1a0',), {'agent': {'messages': [AIMessage(content='The circumference of a circle with a diameter of 10 is 31.4 inches. TASK COMPLETE.', additional_kwargs={}, response_metadata={'token_usage': {'completion_tokens': 22, 'prompt_tokens': 1144, 'total_tokens': 1166, 'completion_time': 0.014084653, 'prompt_time': 0.118853822, 'queue_time': 0.0045627929999999955, 'total_time': 0.132938475}, 'model_name': 'llama-3.3-70b-specdec', 'system_fingerprint': 'fp_985f1e4133', 'finish_reason': 'stop', 'logprobs': None}, id='run-5c8fa556-b7c7-4205-8dbd-938e77c4d53a-0', usage_metadata={'input_tokens': 1144, 'output_tokens': 22, 'total_tokens': 1166})]}})\n",
      "----\n",
      "((), {'researcher': {'messages': [HumanMessage(content='The circumference of a circle with a diameter of 10 is 31.4 inches. TASK COMPLETE.', additional_kwargs={}, response_metadata={}, name='researcher')]}})\n",
      "----\n",
      "((), {'supervisor': {'next': '__end__'}})\n",
      "----\n"
     ]
    }
   ],
   "source": [
    "for s in graph.stream(\n",
    "    {\n",
    "        \"messages\": [\n",
    "            (\n",
    "                \"user\",\n",
    "                \"I am looking for a job in software engineering in California with a bachelor's degree\",\n",
    "            )\n",
    "        ]\n",
    "    },\n",
    "    subgraphs=True,\n",
    "):\n",
    "    print(s)\n",
    "    print(\"----\")"
   ]
  },
  {
   "cell_type": "code",
   "execution_count": 7,
   "metadata": {},
   "outputs": [
    {
     "name": "stdout",
     "output_type": "stream",
     "text": [
      "((), {'supervisor': {'next': 'researcher'}})\n",
      "----\n",
      "(('researcher:ecb43009-75be-ab5b-5b99-48e394d566f2',), {'agent': {'messages': [AIMessage(content='', additional_kwargs={'tool_calls': [{'id': 'call_6cw7', 'function': {'arguments': '{\"query\": \"latest GDP of New York\"}', 'name': 'tavily_search_results_json'}, 'type': 'function'}, {'id': 'call_6btb', 'function': {'arguments': '{\"query\": \"latest GDP of California\"}', 'name': 'tavily_search_results_json'}, 'type': 'function'}]}, response_metadata={'token_usage': {'completion_tokens': 44, 'prompt_tokens': 637, 'total_tokens': 681, 'completion_time': 0.024040118, 'prompt_time': 0.06520665, 'queue_time': 0.004093221999999994, 'total_time': 0.089246768}, 'model_name': 'llama-3.3-70b-specdec', 'system_fingerprint': 'fp_985f1e4133', 'finish_reason': 'tool_calls', 'logprobs': None}, id='run-591b0556-1c19-415e-b9ec-68ab7cbb064c-0', tool_calls=[{'name': 'tavily_search_results_json', 'args': {'query': 'latest GDP of New York'}, 'id': 'call_6cw7', 'type': 'tool_call'}, {'name': 'tavily_search_results_json', 'args': {'query': 'latest GDP of California'}, 'id': 'call_6btb', 'type': 'tool_call'}], usage_metadata={'input_tokens': 637, 'output_tokens': 44, 'total_tokens': 681})]}})\n",
      "----\n",
      "(('researcher:ecb43009-75be-ab5b-5b99-48e394d566f2',), {'tools': {'messages': [ToolMessage(content='[{\"title\": \"What is the gross domestic product (GDP) in New York? - USAFacts\", \"url\": \"https://usafacts.org/answers/what-is-the-gross-domestic-product-gdp/state/new-york/\", \"content\": \"What is the gross domestic product (GDP) in New York? What is the gross domestic product (GDP) in New York? Gross domestic product (GDP) measures the value of goods and services a country or state produces — it’s the sum of consumer spending, business investment, government spending, and net exports. As of 2023, the real GDP was $1.8 trillion. Real GDP in New York, adjusted for inflation (chained 2017 dollars) GDP and the economic experience vary by location due to factors like cost of living, population density, workforce education, and the area’s main industries. In 2023, New York\\'s real (that is, inflation-adjusted) GDP per person was 1st out of all 50 states. In 2023, New York ranked 1st in state GDP per person.\", \"score\": 0.7440808}, {\"title\": \"Economy of New York (state) - Wikipedia\", \"url\": \"https://en.wikipedia.org/wiki/Economy_of_New_York_(state)\", \"content\": \"Jump to content Search Personal tools Toggle the table of contents View history Tools From Wikipedia, the free encyclopedia For the economy of New York City, see Economy of New York City. Economy of New York New York (state) counties by GDP (2021) Main article: Economy of New York City Long Island has played a prominent role in scientific research and in engineering. Seven Nobel Prizes have been awarded for work conducted at Brookhaven lab.[21] Main article: Agriculture in New York The Erie Canal, completed in 1825, opened eastern U.S. markets to Midwest farm products. Bnl.gov. Academic Search Complete. Academic Search Complete. ^ \\\\\"Governor Cuomo Announces Formal Request for New York Exclusion from Federal Offshore Drilling Program\\\\\". History  Mobile view\", \"score\": 0.4942147}, {\"title\": \"Economic and Demographic Trends - New York State Comptroller\", \"url\": \"https://www.osc.ny.gov/reports/finance/2023-fcr/economic-and-demographic-trends\", \"content\": \"Economic and Demographic Trends – 2023 Financial Condition Report | Office of the New York State Comptroller The New York State Office of the State Comptroller\\'s website is provided in English. The State of New York, its officers, employees, and/or agents are not liable to you, or to third parties, for damages or losses of any kind arising out of, or in connection with, the use or performance of such information. New York State Comptroller New York State Comptroller New York State and Local Retirement System (NYSLRS) New York State Budget Analysis and Financial Reporting New York State Financial Reporting New York State’s real GDP increased by 3.2 percent, compared to 2.1 percent nationally.\", \"score\": 0.400703}, {\"title\": \"Gross Domestic Product: All Industry Total in New York (NYNGSP)\", \"url\": \"https://fred.stlouisfed.org/series/NYNGSP\", \"content\": \"Gross Domestic Product: All Industry Total in New York (NYNGSP) | FRED | St. Louis Fed FRED   About FRED About FRED Gross Domestic Product: All Industry Total in New York (NYNGSP) Add data series to graph U.S. Bureau of Economic Analysis, Gross Domestic Product: All Industry Total in New York [NYNGSP], retrieved from FRED, Federal Reserve Bank of St. Louis; https://fred.stlouisfed.org/series/NYNGSP, February 8, 2025. Real Gross Domestic Product: All Industry Total in New York Gross Domestic Product: All Industries in New York County, NY Gross Domestic Product: All Industry Total in New York Gross State Product New York State Bureau of Economic Analysis Industry Gross Domestic Product Annual Public Domain: Citation Requested Not Seasonally Adjusted United States of America\", \"score\": 0.34654185}, {\"title\": \"Economy of New York City - Wikipedia\", \"url\": \"https://en.wikipedia.org/wiki/Economy_of_New_York_City\", \"content\": \"Lower Manhattan is home to the New York Stock Exchange, on Wall Street, and the Nasdaq, at 165 Broadway, representing the world\\'s largest and second largest stock exchanges, respectively, when measured both by overall average daily trading volume and by total market capitalization of their listed companies.[34][35] Investment banking fees on Wall Street totaled approximately $54.9 billion in 2018.[36] New York City remains the largest global center for trading in public equity and debt capital markets, driven in part by the size and financial development of the U.S. economy.[37]:\\u200a31–32\\u200a[38] New York also leads in hedge fund management; private equity; and the monetary volume of mergers and acquisitions.\", \"score\": 0.17878409}]', name='tavily_search_results_json', id='f5b3cf5e-e403-4c06-9ca8-decff4bdc447', tool_call_id='call_6cw7', artifact={'query': 'latest GDP of New York', 'follow_up_questions': None, 'answer': None, 'images': [], 'results': [{'url': 'https://usafacts.org/answers/what-is-the-gross-domestic-product-gdp/state/new-york/', 'title': 'What is the gross domestic product (GDP) in New York? - USAFacts', 'content': \"What is the gross domestic product (GDP) in New York? What is the gross domestic product (GDP) in New York? Gross domestic product (GDP) measures the value of goods and services a country or state produces — it’s the sum of consumer spending, business investment, government spending, and net exports. As of 2023, the real GDP was $1.8 trillion. Real GDP in New York, adjusted for inflation (chained 2017 dollars) GDP and the economic experience vary by location due to factors like cost of living, population density, workforce education, and the area’s main industries. In 2023, New York's real (that is, inflation-adjusted) GDP per person was 1st out of all 50 states. In 2023, New York ranked 1st in state GDP per person.\", 'score': 0.7440808, 'raw_content': None}, {'url': 'https://en.wikipedia.org/wiki/Economy_of_New_York_(state)', 'title': 'Economy of New York (state) - Wikipedia', 'content': 'Jump to content Search Personal tools Toggle the table of contents View history Tools From Wikipedia, the free encyclopedia For the economy of New York City, see Economy of New York City. Economy of New York New York (state) counties by GDP (2021) Main article: Economy of New York City Long Island has played a prominent role in scientific research and in engineering. Seven Nobel Prizes have been awarded for work conducted at Brookhaven lab.[21] Main article: Agriculture in New York The Erie Canal, completed in 1825, opened eastern U.S. markets to Midwest farm products. Bnl.gov. Academic Search Complete. Academic Search Complete. ^ \"Governor Cuomo Announces Formal Request for New York Exclusion from Federal Offshore Drilling Program\". History  Mobile view', 'score': 0.4942147, 'raw_content': None}, {'url': 'https://www.osc.ny.gov/reports/finance/2023-fcr/economic-and-demographic-trends', 'title': 'Economic and Demographic Trends - New York State Comptroller', 'content': \"Economic and Demographic Trends – 2023 Financial Condition Report | Office of the New York State Comptroller The New York State Office of the State Comptroller's website is provided in English. The State of New York, its officers, employees, and/or agents are not liable to you, or to third parties, for damages or losses of any kind arising out of, or in connection with, the use or performance of such information. New York State Comptroller New York State Comptroller New York State and Local Retirement System (NYSLRS) New York State Budget Analysis and Financial Reporting New York State Financial Reporting New York State’s real GDP increased by 3.2 percent, compared to 2.1 percent nationally.\", 'score': 0.400703, 'raw_content': None}, {'url': 'https://fred.stlouisfed.org/series/NYNGSP', 'title': 'Gross Domestic Product: All Industry Total in New York (NYNGSP)', 'content': 'Gross Domestic Product: All Industry Total in New York (NYNGSP) | FRED | St. Louis Fed FRED   About FRED About FRED Gross Domestic Product: All Industry Total in New York (NYNGSP) Add data series to graph U.S. Bureau of Economic Analysis, Gross Domestic Product: All Industry Total in New York [NYNGSP], retrieved from FRED, Federal Reserve Bank of St. Louis; https://fred.stlouisfed.org/series/NYNGSP, February 8, 2025. Real Gross Domestic Product: All Industry Total in New York Gross Domestic Product: All Industries in New York County, NY Gross Domestic Product: All Industry Total in New York Gross State Product New York State Bureau of Economic Analysis Industry Gross Domestic Product Annual Public Domain: Citation Requested Not Seasonally Adjusted United States of America', 'score': 0.34654185, 'raw_content': None}, {'url': 'https://en.wikipedia.org/wiki/Economy_of_New_York_City', 'title': 'Economy of New York City - Wikipedia', 'content': \"Lower Manhattan is home to the New York Stock Exchange, on Wall Street, and the Nasdaq, at 165 Broadway, representing the world's largest and second largest stock exchanges, respectively, when measured both by overall average daily trading volume and by total market capitalization of their listed companies.[34][35] Investment banking fees on Wall Street totaled approximately $54.9 billion in 2018.[36] New York City remains the largest global center for trading in public equity and debt capital markets, driven in part by the size and financial development of the U.S. economy.[37]:\\u200a31–32\\u200a[38] New York also leads in hedge fund management; private equity; and the monetary volume of mergers and acquisitions.\", 'score': 0.17878409, 'raw_content': None}], 'response_time': 1.35}), ToolMessage(content='[{\"title\": \"What is the gross domestic product (GDP) in California? - USAFacts\", \"url\": \"https://usafacts.org/answers/what-is-the-gross-domestic-product-gdp/state/california/\", \"content\": \"Gross domestic product (GDP) measures the value of goods and services a country or state produces — it’s the sum of consumer spending, business investment, government spending, and net exports. The $3.2 trillion is the “real GDP,” which is adjusted to account for inflation to make it easier to compare the size of an economy over time. Real GDP (2023) As of 2023, the real GDP was $3.2 trillion. GDP and the economic experience vary by location due to factors like cost of living, population density, workforce education, and the area’s main industries. In 2023, California’s real (that is, inflation-adjusted) GDP per person was 4th highest out of all 50 states. In 2023, California ranked 4th in state GDP per person.\", \"score\": 0.68571854}, {\"title\": \"California Remains the World\\'s 5th Largest Economy\", \"url\": \"https://www.gov.ca.gov/2024/04/16/california-remains-the-worlds-5th-largest-economy/\", \"content\": \"California Remains the World’s 5th Largest Economy | Governor of California California Remains the World’s 5th Largest Economy SACRAMENTO – Thanks to continued economic growth and strong performances in a variety of industry sectors, California has again ranked as the 5th largest economy in the world. California remains the 5th largest economy in the world since 2017. California is the 5th largest economy in the world for the seventh consecutive year, with a nominal GDP of nearly $3.9 trillion in 2023 and a growth rate of 6.1% since the year prior, according to the U.S. Bureau of Economic Analysis (BEA). Footer Social Media Links\", \"score\": 0.6628188}, {\"title\": \"California\\'s Economy - Public Policy Institute of California\", \"url\": \"https://www.ppic.org/publication/californias-economy/\", \"content\": \"California’s Economy California’s economy has grown relatively slowly in recent years, averaging 2.3% per year between 2020 and 2023, compared to 3.9% on average over the previous four years. Over the long term, California’s economy has grown faster than the nation overall (111% vs 75% over the past 25 years) and faster than other large states except for Texas (128%). On a per capita basis, California’s economic growth outpaces all other large states over the long term. California’s employment growth is generally similar to that of the nation (averaging 1.2% and 1.0%, respectively, over the past 25 years); since the pandemic, the state’s employment growth has been a bit slower (0.9% vs 1.1% in the US).\", \"score\": 0.41805586}, {\"title\": \"Economy of California - Wikipedia\", \"url\": \"https://en.wikipedia.org/wiki/Economy_of_California\", \"content\": \"California state and local tax revenue 2011 State and local tax and fee collections in California (2011) were $268.224 billion plus another $75.875 billion in federal transfers were spent by state and local government agencies.[52] The 8.4 percent \\\\\"average\\\\\" sales tax assessed by the state and local governments of California is one of the highest in the nation and varies by city and county from a low of 7.25% to 10.0%. Property taxes in California amounted to over $54.0 billion (2011) and are one of the largest taxes in California of which about $12.0 billion of the $54.0 billion collected was for voter approved \\\\\"extras\\\\\".[57] The property tax, despite being used primarily to finance local governments, has a significant effect on the state budget. ^ \\\\\"State of California\\\\\". ^ California, State of. State of California\", \"score\": 0.2947582}, {\"title\": \"California\\'s economy leads the nation | Governor of California - CA.gov\", \"url\": \"https://www.gov.ca.gov/2024/07/15/californias-economy-leads-the-nation/\", \"content\": \"What you need to know: Over the past three months, California has announced that it retained its title as the\\xa0fifth largest economy in the world, reached record-high tourism spending, created thousands of fast food jobs, and more. Since April, Governor Gavin Newsom has announced that the state has retained its title as the world’s fifth largest economy, broken tourism-spending records, increased its population, created thousands of fast food jobs, has the most companies on the Fortune 500 list, and expanded businesses in San Francisco. According to new state and federal employment data, California’s fast food industry has added jobs every month this year, including roughly 10,600 new jobs in the two months since Governor Newsom signed the fast food minimum wage bill into law.\", \"score\": 0.15886505}]', name='tavily_search_results_json', id='6928f018-1ea4-4313-b7af-4186a62823c8', tool_call_id='call_6btb', artifact={'query': 'latest GDP of California', 'follow_up_questions': None, 'answer': None, 'images': [], 'results': [{'url': 'https://usafacts.org/answers/what-is-the-gross-domestic-product-gdp/state/california/', 'title': 'What is the gross domestic product (GDP) in California? - USAFacts', 'content': 'Gross domestic product (GDP) measures the value of goods and services a country or state produces — it’s the sum of consumer spending, business investment, government spending, and net exports. The $3.2 trillion is the “real GDP,” which is adjusted to account for inflation to make it easier to compare the size of an economy over time. Real GDP (2023) As of 2023, the real GDP was $3.2 trillion. GDP and the economic experience vary by location due to factors like cost of living, population density, workforce education, and the area’s main industries. In 2023, California’s real (that is, inflation-adjusted) GDP per person was 4th highest out of all 50 states. In 2023, California ranked 4th in state GDP per person.', 'score': 0.68571854, 'raw_content': None}, {'url': 'https://www.gov.ca.gov/2024/04/16/california-remains-the-worlds-5th-largest-economy/', 'title': \"California Remains the World's 5th Largest Economy\", 'content': 'California Remains the World’s 5th Largest Economy | Governor of California California Remains the World’s 5th Largest Economy SACRAMENTO – Thanks to continued economic growth and strong performances in a variety of industry sectors, California has again ranked as the 5th largest economy in the world. California remains the 5th largest economy in the world since 2017. California is the 5th largest economy in the world for the seventh consecutive year, with a nominal GDP of nearly $3.9 trillion in 2023 and a growth rate of 6.1% since the year prior, according to the U.S. Bureau of Economic Analysis (BEA). Footer Social Media Links', 'score': 0.6628188, 'raw_content': None}, {'url': 'https://www.ppic.org/publication/californias-economy/', 'title': \"California's Economy - Public Policy Institute of California\", 'content': 'California’s Economy California’s economy has grown relatively slowly in recent years, averaging 2.3% per year between 2020 and 2023, compared to 3.9% on average over the previous four years. Over the long term, California’s economy has grown faster than the nation overall (111% vs 75% over the past 25 years) and faster than other large states except for Texas (128%). On a per capita basis, California’s economic growth outpaces all other large states over the long term. California’s employment growth is generally similar to that of the nation (averaging 1.2% and 1.0%, respectively, over the past 25 years); since the pandemic, the state’s employment growth has been a bit slower (0.9% vs 1.1% in the US).', 'score': 0.41805586, 'raw_content': None}, {'url': 'https://en.wikipedia.org/wiki/Economy_of_California', 'title': 'Economy of California - Wikipedia', 'content': 'California state and local tax revenue 2011 State and local tax and fee collections in California (2011) were $268.224 billion plus another $75.875 billion in federal transfers were spent by state and local government agencies.[52] The 8.4 percent \"average\" sales tax assessed by the state and local governments of California is one of the highest in the nation and varies by city and county from a low of 7.25% to 10.0%. Property taxes in California amounted to over $54.0 billion (2011) and are one of the largest taxes in California of which about $12.0 billion of the $54.0 billion collected was for voter approved \"extras\".[57] The property tax, despite being used primarily to finance local governments, has a significant effect on the state budget. ^ \"State of California\". ^ California, State of. State of California', 'score': 0.2947582, 'raw_content': None}, {'url': 'https://www.gov.ca.gov/2024/07/15/californias-economy-leads-the-nation/', 'title': \"California's economy leads the nation | Governor of California - CA.gov\", 'content': 'What you need to know: Over the past three months, California has announced that it retained its title as the\\xa0fifth largest economy in the world, reached record-high tourism spending, created thousands of fast food jobs, and more. Since April, Governor Gavin Newsom has announced that the state has retained its title as the world’s fifth largest economy, broken tourism-spending records, increased its population, created thousands of fast food jobs, has the most companies on the Fortune 500 list, and expanded businesses in San Francisco. According to new state and federal employment data, California’s fast food industry has added jobs every month this year, including roughly 10,600 new jobs in the two months since Governor Newsom signed the fast food minimum wage bill into law.', 'score': 0.15886505, 'raw_content': None}], 'response_time': 1.91})]}})\n",
      "----\n",
      "(('researcher:ecb43009-75be-ab5b-5b99-48e394d566f2',), {'agent': {'messages': [AIMessage(content='The latest GDP of New York is $1.8 trillion and the latest GDP of California is $3.2 trillion. TASK COMPLETE.', additional_kwargs={}, response_metadata={'token_usage': {'completion_tokens': 29, 'prompt_tokens': 2877, 'total_tokens': 2906, 'completion_time': 0.014900388, 'prompt_time': 0.298441741, 'queue_time': 0.23160385500000003, 'total_time': 0.313342129}, 'model_name': 'llama-3.3-70b-specdec', 'system_fingerprint': 'fp_9f325da874', 'finish_reason': 'stop', 'logprobs': None}, id='run-5762f2bf-27d1-4f03-9766-36619fd45a14-0', usage_metadata={'input_tokens': 2877, 'output_tokens': 29, 'total_tokens': 2906})]}})\n",
      "----\n",
      "((), {'researcher': {'messages': [HumanMessage(content='The latest GDP of New York is $1.8 trillion and the latest GDP of California is $3.2 trillion. TASK COMPLETE.', additional_kwargs={}, response_metadata={}, name='researcher')]}})\n",
      "----\n",
      "((), {'supervisor': {'next': 'coder'}})\n",
      "----\n"
     ]
    },
    {
     "name": "stderr",
     "output_type": "stream",
     "text": [
      "Python REPL can execute arbitrary code. Use with caution.\n"
     ]
    },
    {
     "name": "stdout",
     "output_type": "stream",
     "text": [
      "(('coder:7193ba29-7437-d0f2-0a23-63d31c7426ee',), {'agent': {'messages': [AIMessage(content='', additional_kwargs={'tool_calls': [{'id': 'call_mzwj', 'function': {'arguments': '{\"code\": \"print(($1.8 + $3.2) / 2)\"}', 'name': 'python_repl_tool'}, 'type': 'function'}]}, response_metadata={'token_usage': {'completion_tokens': 30, 'prompt_tokens': 354, 'total_tokens': 384, 'completion_time': 0.02488603, 'prompt_time': 0.036221324, 'queue_time': 0.431368626, 'total_time': 0.061107354}, 'model_name': 'llama-3.3-70b-specdec', 'system_fingerprint': 'fp_9f325da874', 'finish_reason': 'tool_calls', 'logprobs': None}, id='run-27ae20fa-7fd4-4a05-b1c8-1e2b07c79a7f-0', tool_calls=[{'name': 'python_repl_tool', 'args': {'code': 'print(($1.8 + $3.2) / 2)'}, 'id': 'call_mzwj', 'type': 'tool_call'}], usage_metadata={'input_tokens': 354, 'output_tokens': 30, 'total_tokens': 384})]}})\n",
      "----\n",
      "(('coder:7193ba29-7437-d0f2-0a23-63d31c7426ee',), {'tools': {'messages': [ToolMessage(content=\"Successfully executed:\\n```python\\nprint(($1.8 + $3.2) / 2)\\n```\\nStdout: SyntaxError('invalid syntax', ('<string>', 1, 8, 'print(($1.8 + $3.2) / 2)\\\\n', 1, 9))\", name='python_repl_tool', id='0668208f-00ad-40ac-bf58-1dc491c8715c', tool_call_id='call_mzwj')]}})\n",
      "----\n",
      "(('coder:7193ba29-7437-d0f2-0a23-63d31c7426ee',), {'agent': {'messages': [AIMessage(content='', additional_kwargs={'tool_calls': [{'id': 'call_sxsr', 'function': {'arguments': '{\"code\": \"gdp_new_york = 1.8 * (10**12)\\\\ngdp_california = 3.2 * (10**12)\\\\nprint((gdp_new_york + gdp_california) / 2)\"}', 'name': 'python_repl_tool'}, 'type': 'function'}]}, response_metadata={'token_usage': {'completion_tokens': 64, 'prompt_tokens': 460, 'total_tokens': 524, 'completion_time': 0.0387624, 'prompt_time': 0.049821078, 'queue_time': 0.23284776399999998, 'total_time': 0.088583478}, 'model_name': 'llama-3.3-70b-specdec', 'system_fingerprint': 'fp_985f1e4133', 'finish_reason': 'tool_calls', 'logprobs': None}, id='run-934b2a56-6dff-4ea5-bc23-be337f7ee8c7-0', tool_calls=[{'name': 'python_repl_tool', 'args': {'code': 'gdp_new_york = 1.8 * (10**12)\\ngdp_california = 3.2 * (10**12)\\nprint((gdp_new_york + gdp_california) / 2)'}, 'id': 'call_sxsr', 'type': 'tool_call'}], usage_metadata={'input_tokens': 460, 'output_tokens': 64, 'total_tokens': 524})]}})\n",
      "----\n",
      "(('coder:7193ba29-7437-d0f2-0a23-63d31c7426ee',), {'tools': {'messages': [ToolMessage(content='Successfully executed:\\n```python\\ngdp_new_york = 1.8 * (10**12)\\ngdp_california = 3.2 * (10**12)\\nprint((gdp_new_york + gdp_california) / 2)\\n```\\nStdout: 2500000000000.0\\n', name='python_repl_tool', tool_call_id='call_sxsr')]}})\n",
      "----\n",
      "(('coder:7193ba29-7437-d0f2-0a23-63d31c7426ee',), {'agent': {'messages': [AIMessage(content='The average GDP of New York and California is $2.5 trillion. TASK COMPLETE.', additional_kwargs={}, response_metadata={'token_usage': {'completion_tokens': 19, 'prompt_tokens': 602, 'total_tokens': 621, 'completion_time': 0.009489423, 'prompt_time': 0.061628206, 'queue_time': 0.232801489, 'total_time': 0.071117629}, 'model_name': 'llama-3.3-70b-specdec', 'system_fingerprint': 'fp_985f1e4133', 'finish_reason': 'stop', 'logprobs': None}, id='run-f759e242-a43a-49dc-94c7-43946ca8b9f4-0', usage_metadata={'input_tokens': 602, 'output_tokens': 19, 'total_tokens': 621})]}})\n",
      "----\n",
      "((), {'coder': {'messages': [HumanMessage(content='The average GDP of New York and California is $2.5 trillion. TASK COMPLETE.', additional_kwargs={}, response_metadata={}, name='coder')]}})\n",
      "----\n",
      "((), {'supervisor': {'next': '__end__'}})\n",
      "----\n"
     ]
    }
   ],
   "source": [
    "for s in graph.stream(\n",
    "    {\n",
    "        \"messages\": [\n",
    "            (\n",
    "                \"user\",\n",
    "                \"Find the latest GDP of New York and California, then calculate the average\",\n",
    "            )\n",
    "        ]\n",
    "    },\n",
    "    subgraphs=True,\n",
    "):\n",
    "    print(s)\n",
    "    print(\"----\")"
   ]
  },
  {
   "cell_type": "code",
   "execution_count": null,
   "metadata": {},
   "outputs": [],
   "source": []
  }
 ],
 "metadata": {
  "kernelspec": {
   "display_name": "Python 3",
   "language": "python",
   "name": "python3"
  },
  "language_info": {
   "codemirror_mode": {
    "name": "ipython",
    "version": 3
   },
   "file_extension": ".py",
   "mimetype": "text/x-python",
   "name": "python",
   "nbconvert_exporter": "python",
   "pygments_lexer": "ipython3",
   "version": "3.10.12"
  }
 },
 "nbformat": 4,
 "nbformat_minor": 2
}
